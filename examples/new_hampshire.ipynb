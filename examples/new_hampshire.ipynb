{
 "cells": [
  {
   "cell_type": "markdown",
   "metadata": {},
   "source": [
    "# New Hampshire\n",
    "\n",
    "Runs the entire RBA pipeline on New Hampshire geodata and districts.\n",
    "\n",
    "The whole notebook should take a couple minutes to run. (requires ffmpeg)"
   ]
  },
  {
   "cell_type": "code",
   "execution_count": null,
   "metadata": {},
   "outputs": [],
   "source": [
    "# CONSTANTS\n",
    "\n",
    "# Input paths\n",
    "GEODATA_FILE = \"../rba/data/2010/new_hampshire_geodata_merged.json\"\n",
    "DISTRICTS_FILE = \"../rba/data/2010/new_hampshire_districts.json\"\n",
    "VRA_FILE = \"../rba/data/2010/vra_new_hampshire.json\"\n",
    "\n",
    "# Output paths\n",
    "COMMUNITIES_FILE = \"../rba/data/2010/new_hampshire_communities.json\"\n",
    "ENSEMBLE_DIR = \"../NH_demo_ensemble_out\"\n",
    "COMMUNITY_VIS_DIR = \"../NH_demo_supercommunities_out\"\n",
    "OPTIMIZATION_DIR = \"../NH_demo_optimization_out\"\n",
    "\n",
    "# Algorithm parameters\n",
    "NUM_THRESHOLDS = 1000\n",
    "ENSEMBLE_SIZE = 100\n",
    "NUM_OPTIMIZATION_STEPS = 100\n",
    "NUM_DISTRICTS = 2\n",
    "\n",
    "# Visualization parameters\n",
    "NUM_SUPERCOMMUNITY_FRAMES = 50"
   ]
  },
  {
   "cell_type": "code",
   "execution_count": null,
   "metadata": {},
   "outputs": [],
   "source": [
    "# Generate supercommunity map\n",
    "\n",
    "import warnings\n",
    "warnings.filterwarnings(\"ignore\")\n",
    "\n",
    "from rba.community_generation import create_communities\n",
    "\n",
    "create_communities(GEODATA_FILE, NUM_THRESHOLDS, COMMUNITIES_FILE, verbose=True)"
   ]
  },
  {
   "cell_type": "code",
   "execution_count": null,
   "metadata": {},
   "outputs": [],
   "source": [
    "# Visualize supercommunities (this takes most of the time to run)\n",
    "\n",
    "import json\n",
    "\n",
    "from gerrychain import Graph\n",
    "import networkx as nx\n",
    "\n",
    "from rba.visualization import visualize_community_generation\n",
    "\n",
    "with open(GEODATA_FILE, \"r\") as f:\n",
    "    data = json.load(f)\n",
    "nx_graph = nx.readwrite.json_graph.adjacency_graph(data)\n",
    "graph = Graph.from_networkx(nx_graph)\n",
    "del nx_graph\n",
    "\n",
    "visualize_community_generation(COMMUNITIES_FILE, COMMUNITY_VIS_DIR, graph, NUM_SUPERCOMMUNITY_FRAMES)"
   ]
  },
  {
   "cell_type": "code",
   "execution_count": null,
   "metadata": {},
   "outputs": [],
   "source": [
    "!ffmpeg -framerate 2 -pattern_type glob -i \"../NH_demo_supercommunities_out/*.png\" -c:v libx264 ../NH_demo_supercommunities_out/out.mp4"
   ]
  },
  {
   "cell_type": "code",
   "execution_count": null,
   "metadata": {},
   "outputs": [],
   "source": [
    "# Generate an ensemble\n",
    "\n",
    "from rba.ensemble import ensemble_analysis\n",
    "\n",
    "\n",
    "ensemble_analysis(GEODATA_FILE, COMMUNITIES_FILE, VRA_FILE, ENSEMBLE_SIZE, NUM_DISTRICTS,\n",
    "                  DISTRICTS_FILE, DISTRICTS_FILE, ENSEMBLE_DIR, verbose=True)"
   ]
  },
  {
   "cell_type": "code",
   "execution_count": null,
   "metadata": {},
   "outputs": [],
   "source": [
    "# Run optimization\n",
    "\n",
    "from rba.optimization import optimize\n",
    "\n",
    "optimize(GEODATA_FILE, COMMUNITIES_FILE, VRA_FILE, NUM_OPTIMIZATION_STEPS, NUM_DISTRICTS,\n",
    "         DISTRICTS_FILE, OPTIMIZATION_DIR, verbose=True)"
   ]
  },
  {
   "cell_type": "code",
   "execution_count": null,
   "metadata": {},
   "outputs": [],
   "source": [
    "!python3 ../rba/scripts/optimization_plots.py new_hampshire 100 2 ../NH_demo_ensemble_out ../NH_demo_optimization_out"
   ]
  }
 ],
 "metadata": {
  "kernelspec": {
   "display_name": "Python 3 (ipykernel)",
   "language": "python",
   "name": "python3"
  },
  "language_info": {
   "codemirror_mode": {
    "name": "ipython",
    "version": 3
   },
   "file_extension": ".py",
   "mimetype": "text/x-python",
   "name": "python",
   "nbconvert_exporter": "python",
   "pygments_lexer": "ipython3",
   "version": "3.11.0"
  },
  "vscode": {
   "interpreter": {
    "hash": "3218fa316ded8cc4ffe9096b2baf1ef24e574309e5ed6f9629d67de0243fa942"
   }
  }
 },
 "nbformat": 4,
 "nbformat_minor": 2
}
